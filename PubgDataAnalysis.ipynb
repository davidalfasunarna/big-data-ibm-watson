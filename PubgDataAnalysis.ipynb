{
    "nbformat_minor": 1, 
    "cells": [
        {
            "execution_count": 1, 
            "cell_type": "code", 
            "metadata": {}, 
            "outputs": [
                {
                    "execution_count": 1, 
                    "metadata": {}, 
                    "data": {
                        "text/plain": "[Row(game_size='37', party_size='2', player_assists='0', player_dist_ride='2870.724', player_dist_walk='1784.84778', player_dmg='117', player_kills='1', player_survive_time='1106.32', team_placement='18'),\n Row(game_size='37', party_size='2', player_assists='0', player_dist_ride='2938.4072300000003', player_dist_walk='1756.0797100000002', player_dmg='127', player_kills='1', player_survive_time='1106.315', team_placement='18'),\n Row(game_size='37', party_size='2', player_assists='0', player_dist_ride='0.0', player_dist_walk='224.157562', player_dmg='67', player_kills='0', player_survive_time='235.558', team_placement='33'),\n Row(game_size='37', party_size='2', player_assists='0', player_dist_ride='0.0', player_dist_walk='92.93515', player_dmg='0', player_kills='0', player_survive_time='197.553', team_placement='33'),\n Row(game_size='37', party_size='2', player_assists='0', player_dist_ride='2619.07739', player_dist_walk='2510.447', player_dmg='175', player_kills='2', player_survive_time='1537.495', team_placement='11')]"
                    }, 
                    "output_type": "execute_result"
                }
            ], 
            "source": "# The code was removed by Watson Studio for sharing."
        }, 
        {
            "execution_count": 2, 
            "cell_type": "code", 
            "metadata": {}, 
            "outputs": [], 
            "source": "#convert to integer & double\n\nfrom pyspark.sql.types import IntegerType\nfrom pyspark.sql.types import DoubleType\n\ndf_data_1=df_data_1.withColumn(\"game_size\", df_data_1[\"game_size\"].cast(IntegerType()))\ndf_data_1=df_data_1.withColumn(\"party_size\", df_data_1[\"party_size\"].cast(IntegerType()))\ndf_data_1=df_data_1.withColumn(\"player_assists\", df_data_1[\"player_assists\"].cast(IntegerType()))\ndf_data_1=df_data_1.withColumn(\"player_dist_ride\", df_data_1[\"player_dist_ride\"].cast(DoubleType()))\ndf_data_1=df_data_1.withColumn(\"player_dist_walk\", df_data_1[\"player_dist_walk\"].cast(DoubleType()))\ndf_data_1=df_data_1.withColumn(\"player_dmg\", df_data_1[\"player_dmg\"].cast(IntegerType()))\ndf_data_1=df_data_1.withColumn(\"player_kills\", df_data_1[\"player_kills\"].cast(IntegerType()))\ndf_data_1=df_data_1.withColumn(\"player_survive_time\", df_data_1[\"player_survive_time\"].cast(DoubleType()))\ndf_data_1=df_data_1.withColumn(\"team_placement\", df_data_1[\"team_placement\"].cast(IntegerType()))\n"
        }, 
        {
            "execution_count": 3, 
            "cell_type": "code", 
            "metadata": {}, 
            "outputs": [
                {
                    "output_type": "stream", 
                    "name": "stdout", 
                    "text": "root\n |-- game_size: integer (nullable = true)\n |-- party_size: integer (nullable = true)\n |-- player_assists: integer (nullable = true)\n |-- player_dist_ride: double (nullable = true)\n |-- player_dist_walk: double (nullable = true)\n |-- player_dmg: integer (nullable = true)\n |-- player_kills: integer (nullable = true)\n |-- player_survive_time: double (nullable = true)\n |-- team_placement: integer (nullable = true)\n\n"
                }
            ], 
            "source": "#print schema to check data type\n\ndf_data_1.cache()\ndf_data_1.printSchema()"
        }, 
        {
            "execution_count": 4, 
            "cell_type": "code", 
            "metadata": {}, 
            "outputs": [
                {
                    "execution_count": 4, 
                    "metadata": {}, 
                    "data": {
                        "text/html": "<div>\n<style scoped>\n    .dataframe tbody tr th:only-of-type {\n        vertical-align: middle;\n    }\n\n    .dataframe tbody tr th {\n        vertical-align: top;\n    }\n\n    .dataframe thead th {\n        text-align: right;\n    }\n</style>\n<table border=\"1\" class=\"dataframe\">\n  <thead>\n    <tr style=\"text-align: right;\">\n      <th></th>\n      <th>0</th>\n      <th>1</th>\n      <th>2</th>\n      <th>3</th>\n      <th>4</th>\n    </tr>\n  </thead>\n  <tbody>\n    <tr>\n      <th>summary</th>\n      <td>count</td>\n      <td>mean</td>\n      <td>stddev</td>\n      <td>min</td>\n      <td>max</td>\n    </tr>\n    <tr>\n      <th>game_size</th>\n      <td>13849287</td>\n      <td>47.14748044430013</td>\n      <td>25.176718925400998</td>\n      <td>4</td>\n      <td>100</td>\n    </tr>\n    <tr>\n      <th>party_size</th>\n      <td>13849287</td>\n      <td>2.7334386239522654</td>\n      <td>1.2463910518229826</td>\n      <td>1</td>\n      <td>4</td>\n    </tr>\n    <tr>\n      <th>player_assists</th>\n      <td>13849287</td>\n      <td>0.22962662265573672</td>\n      <td>0.5757951131748313</td>\n      <td>0</td>\n      <td>13</td>\n    </tr>\n    <tr>\n      <th>player_dist_ride</th>\n      <td>13849287</td>\n      <td>1156.4243585450847</td>\n      <td>1995.3956191797552</td>\n      <td>0.0</td>\n      <td>474871.2</td>\n    </tr>\n    <tr>\n      <th>player_dist_walk</th>\n      <td>13849287</td>\n      <td>1282.1640659438353</td>\n      <td>4109.221049409863</td>\n      <td>0.0</td>\n      <td>1188375.0</td>\n    </tr>\n    <tr>\n      <th>player_dmg</th>\n      <td>13849287</td>\n      <td>123.91849457665221</td>\n      <td>169.60369997787683</td>\n      <td>0</td>\n      <td>6343</td>\n    </tr>\n    <tr>\n      <th>player_kills</th>\n      <td>13849287</td>\n      <td>0.8871920987701388</td>\n      <td>1.5553867623402131</td>\n      <td>0</td>\n      <td>64</td>\n    </tr>\n    <tr>\n      <th>player_survive_time</th>\n      <td>13849287</td>\n      <td>83509.84393521953</td>\n      <td>7.256157446323657E7</td>\n      <td>0.0</td>\n      <td>6.3648215E10</td>\n    </tr>\n    <tr>\n      <th>team_placement</th>\n      <td>13849287</td>\n      <td>24.46128901798338</td>\n      <td>20.37429054520374</td>\n      <td>0</td>\n      <td>100</td>\n    </tr>\n  </tbody>\n</table>\n</div>", 
                        "text/plain": "                            0                    1                    2    3  \\\nsummary                 count                 mean               stddev  min   \ngame_size            13849287    47.14748044430013   25.176718925400998    4   \nparty_size           13849287   2.7334386239522654   1.2463910518229826    1   \nplayer_assists       13849287  0.22962662265573672   0.5757951131748313    0   \nplayer_dist_ride     13849287   1156.4243585450847   1995.3956191797552  0.0   \nplayer_dist_walk     13849287   1282.1640659438353    4109.221049409863  0.0   \nplayer_dmg           13849287   123.91849457665221   169.60369997787683    0   \nplayer_kills         13849287   0.8871920987701388   1.5553867623402131    0   \nplayer_survive_time  13849287    83509.84393521953  7.256157446323657E7  0.0   \nteam_placement       13849287    24.46128901798338    20.37429054520374    0   \n\n                                4  \nsummary                       max  \ngame_size                     100  \nparty_size                      4  \nplayer_assists                 13  \nplayer_dist_ride         474871.2  \nplayer_dist_walk        1188375.0  \nplayer_dmg                   6343  \nplayer_kills                   64  \nplayer_survive_time  6.3648215E10  \nteam_placement                100  "
                    }, 
                    "output_type": "execute_result"
                }
            ], 
            "source": "#statistik deskriptif\n\ndf_data_1.describe().toPandas().transpose()"
        }, 
        {
            "execution_count": 5, 
            "cell_type": "code", 
            "metadata": {}, 
            "outputs": [
                {
                    "output_type": "stream", 
                    "name": "stdout", 
                    "text": "Correlation to team_placement for  game_size 0.6376611714922066\nCorrelation to team_placement for  party_size -0.582088856931328\nCorrelation to team_placement for  player_assists -0.24289626112917562\nCorrelation to team_placement for  player_dist_ride -0.3844235687257262\nCorrelation to team_placement for  player_dist_walk -0.17134437476548225\nCorrelation to team_placement for  player_dmg -0.30645810352029407\nCorrelation to team_placement for  player_kills -0.2711514958458521\nCorrelation to team_placement for  player_survive_time 0.0027264442862474977\nCorrelation to team_placement for  team_placement 1.0\n"
                }
            ], 
            "source": "#find data correlation\n\nimport six\nfor i in df_data_1.columns:\n    if not( isinstance(df_data_1.select(i).take(1)[0][0], six.string_types)):\n        print( \"Correlation to team_placement for \", i, df_data_1.stat.corr('team_placement',i))"
        }, 
        {
            "execution_count": 6, 
            "cell_type": "code", 
            "metadata": {}, 
            "outputs": [
                {
                    "output_type": "stream", 
                    "name": "stdout", 
                    "text": "+--------------------+--------------+\n|            features|team_placement|\n+--------------------+--------------+\n|[37.0,2.0,0.0,287...|            18|\n|[37.0,2.0,0.0,293...|            18|\n|[37.0,2.0,0.0,0.0...|            33|\n+--------------------+--------------+\nonly showing top 3 rows\n\n"
                }
            ], 
            "source": "#mapping features and team placemenet\n\nfrom pyspark.ml.feature import VectorAssembler\n\nvectorAssembler = VectorAssembler(inputCols = ['game_size', 'party_size', 'player_assists', 'player_dist_ride', 'player_dist_walk', 'player_dmg','player_kills','player_survive_time'], outputCol = 'features')\nvhouse_df = vectorAssembler.transform(df_data_1)\nvhouse_df = vhouse_df.select(['features', 'team_placement'])\nvhouse_df.show(3)"
        }, 
        {
            "execution_count": 7, 
            "cell_type": "code", 
            "metadata": {}, 
            "outputs": [], 
            "source": "#split training to test\n\nsplits = vhouse_df.randomSplit([0.8, 0.2])\ntrain_df = splits[0]\ntest_df = splits[1]"
        }, 
        {
            "execution_count": 8, 
            "cell_type": "code", 
            "metadata": {}, 
            "outputs": [
                {
                    "output_type": "stream", 
                    "name": "stdout", 
                    "text": "Coefficients: [0.477797733026,-0.1052954394,-0.776438348699,-0.00271654003314,-0.000263480282797,-0.013263953915,-1.31232522557,0.0]\nIntercept: 8.686175638486466\n"
                }
            ], 
            "source": "#linear regression\nfrom pyspark.ml.regression import LinearRegression\n\nlr = LinearRegression(featuresCol = 'features', labelCol='team_placement', maxIter=10, regParam=0.3, elasticNetParam=0.8)\nlr_model = lr.fit(train_df)\nprint(\"Coefficients: \" + str(lr_model.coefficients))\nprint(\"Intercept: \" + str(lr_model.intercept))"
        }, 
        {
            "execution_count": 9, 
            "cell_type": "code", 
            "metadata": {}, 
            "outputs": [
                {
                    "output_type": "stream", 
                    "name": "stdout", 
                    "text": "RMSE: 13.317451\nr2: 0.572752\n"
                }
            ], 
            "source": "#root mean and r square\n\ntrainingSummary = lr_model.summary\nprint(\"RMSE: %f\" % trainingSummary.rootMeanSquaredError)\nprint(\"r2: %f\" % trainingSummary.r2)"
        }, 
        {
            "execution_count": 10, 
            "cell_type": "code", 
            "metadata": {}, 
            "outputs": [
                {
                    "output_type": "stream", 
                    "name": "stdout", 
                    "text": "+-------+------------------+\n|summary|    team_placement|\n+-------+------------------+\n|  count|          11081229|\n|   mean|24.458734586208806|\n| stddev|  20.3742311487861|\n|    min|                 0|\n|    max|               100|\n+-------+------------------+\n\n"
                }
            ], 
            "source": "#describe data training\n\ntrain_df.describe().show()"
        }, 
        {
            "execution_count": 12, 
            "cell_type": "code", 
            "metadata": {
                "scrolled": true
            }, 
            "outputs": [
                {
                    "output_type": "stream", 
                    "name": "stdout", 
                    "text": "+------------------+--------------+--------------------+\n|        prediction|team_placement|            features|\n+------------------+--------------+--------------------+\n|21.822487522959726|            30|(8,[0,1,2,7],[30....|\n| 15.43154605777642|            27|(8,[0,1,3,7],[27....|\n|21.536246309130068|            19|(8,[0,1,3,7],[28....|\n|19.315027679494786|            10|(8,[0,1,3,7],[28....|\n|27.511325878718303|            42|(8,[0,1,3,7],[48....|\n|30.921810314050447|            46|(8,[0,1,3,7],[49....|\n| 29.02711027139467|            43|(8,[0,1,3,7],[49....|\n|28.841092258761947|            45|(8,[0,1,3,7],[49....|\n| 28.00150101026248|            40|(8,[0,1,3,7],[49....|\n| 47.88334957340983|            78|(8,[0,1,3,7],[88....|\n+------------------+--------------+--------------------+\nonly showing top 10 rows\n\nR Squared (R2) on test data = 0.570619\n"
                }
            ], 
            "source": "#akurasi prediksi test data\n\nlr_predictions = lr_model.transform(test_df)\nlr_predictions.select(\"prediction\",\"team_placement\",\"features\").show(10)\nfrom pyspark.ml.evaluation import RegressionEvaluator\nlr_evaluator = RegressionEvaluator(predictionCol=\"prediction\", \\\n                 labelCol=\"team_placement\",metricName=\"r2\")\nprint(\"R Squared (R2) on test data = %g\" % lr_evaluator.evaluate(lr_predictions))"
        }, 
        {
            "execution_count": 14, 
            "cell_type": "code", 
            "metadata": {}, 
            "outputs": [
                {
                    "output_type": "stream", 
                    "name": "stdout", 
                    "text": "Root Mean Squared Error (RMSE) on test data = 13.3508\n"
                }
            ], 
            "source": "#find RMSE on the test data set\n\ntest_result = lr_model.evaluate(test_df)\nprint(\"Root Mean Squared Error (RMSE) on test data = %g\" % test_result.rootMeanSquaredError)"
        }, 
        {
            "execution_count": 15, 
            "cell_type": "code", 
            "metadata": {}, 
            "outputs": [
                {
                    "output_type": "stream", 
                    "name": "stdout", 
                    "text": "Root Mean Squared Error (RMSE) on test data = 5.60863\n"
                }
            ], 
            "source": "#Decision Tree\n\nfrom pyspark.ml.regression import DecisionTreeRegressor\ndt = DecisionTreeRegressor(featuresCol ='features', labelCol = 'team_placement')\ndt_model = dt.fit(train_df)\ndt_predictions = dt_model.transform(test_df)\ndt_evaluator = RegressionEvaluator(\n    labelCol=\"team_placement\", predictionCol=\"prediction\", metricName=\"rmse\")\nrmse = dt_evaluator.evaluate(dt_predictions)\nprint(\"Root Mean Squared Error (RMSE) on test data = %g\" % rmse)"
        }, 
        {
            "execution_count": 16, 
            "cell_type": "code", 
            "metadata": {}, 
            "outputs": [
                {
                    "execution_count": 16, 
                    "metadata": {}, 
                    "data": {
                        "text/plain": "SparseVector(8, {0: 0.4431, 4: 0.2858, 7: 0.2712})"
                    }, 
                    "output_type": "execute_result"
                }
            ], 
            "source": "#mana yang paling berpengaruh\n\ndt_model.featureImportances"
        }, 
        {
            "execution_count": 20, 
            "cell_type": "code", 
            "metadata": {}, 
            "outputs": [
                {
                    "execution_count": 20, 
                    "metadata": {}, 
                    "data": {
                        "text/plain": "[Row(game_size=37, party_size=2, player_assists=0, player_dist_ride=2870.724, player_dist_walk=1784.84778, player_dmg=117, player_kills=1, player_survive_time=1106.32, team_placement=18)]"
                    }, 
                    "output_type": "execute_result"
                }
            ], 
            "source": "df_data_1.take(1)\n\n#yang paling berpengaruh ternyata game size, wajar karena semakin kecil sisanya akan diisi bot"
        }, 
        {
            "execution_count": 25, 
            "cell_type": "code", 
            "metadata": {}, 
            "outputs": [
                {
                    "output_type": "stream", 
                    "name": "stdout", 
                    "text": "+------------------+--------------+--------------------+\n|        prediction|team_placement|            features|\n+------------------+--------------+--------------------+\n|22.247426346445415|            30|(8,[0,1,2,7],[30....|\n| 21.78599994987354|            27|(8,[0,1,3,7],[27....|\n| 22.49980542950105|            19|(8,[0,1,3,7],[28....|\n| 20.68701152062016|            10|(8,[0,1,3,7],[28....|\n|40.888593236998105|            42|(8,[0,1,3,7],[48....|\n|41.828317942456785|            46|(8,[0,1,3,7],[49....|\n| 41.17433503001345|            43|(8,[0,1,3,7],[49....|\n|40.305009010751434|            45|(8,[0,1,3,7],[49....|\n| 33.11011178610538|            40|(8,[0,1,3,7],[49....|\n|  81.6196767933093|            78|(8,[0,1,3,7],[88....|\n| 82.87934953789231|            83|(8,[0,1,3,7],[90....|\n| 84.10118977322247|            76|(8,[0,1,3,7],[91....|\n| 84.10118977322247|            75|(8,[0,1,3,7],[93....|\n| 78.21996882128681|            85|(8,[0,1,3,7],[94....|\n| 90.74570362256765|            88|(8,[0,1,3,7],[94....|\n| 80.10972233515756|            68|(8,[0,1,3,7],[94....|\n| 90.85235758511975|            90|(8,[0,1,3,7],[96....|\n| 86.27374735551146|            84|(8,[0,1,3,7],[96....|\n| 82.59031262875992|            75|(8,[0,1,3,7],[97....|\n| 85.51776489345617|            89|(8,[0,1,3,7],[98....|\n+------------------+--------------+--------------------+\nonly showing top 20 rows\n\n"
                }
            ], 
            "source": "#gradient-boosted tree regression\n\nfrom pyspark.ml.regression import GBTRegressor\ngbt = GBTRegressor(featuresCol = 'features', labelCol = 'team_placement', maxIter=10)\ngbt_model = gbt.fit(train_df)\ngbt_predictions = gbt_model.transform(test_df)\ngbt_predictions.select('prediction', 'team_placement', 'features').show(20)"
        }, 
        {
            "execution_count": 24, 
            "cell_type": "code", 
            "metadata": {}, 
            "outputs": [
                {
                    "output_type": "stream", 
                    "name": "stdout", 
                    "text": "Root Mean Squared Error (RMSE) on test data = 5.33359\n"
                }
            ], 
            "source": "#Evaluate GBT\n\ngbt_evaluator = RegressionEvaluator(\n    labelCol=\"team_placement\", predictionCol=\"prediction\", metricName=\"rmse\")\nrmse = gbt_evaluator.evaluate(gbt_predictions)\nprint(\"Root Mean Squared Error (RMSE) on test data = %g\" % rmse)"
        }
    ], 
    "metadata": {
        "kernelspec": {
            "display_name": "Python 3.5 with Spark 2.1", 
            "name": "python3-spark21", 
            "language": "python"
        }, 
        "language_info": {
            "mimetype": "text/x-python", 
            "nbconvert_exporter": "python", 
            "version": "3.5.4", 
            "name": "python", 
            "file_extension": ".py", 
            "pygments_lexer": "ipython3", 
            "codemirror_mode": {
                "version": 3, 
                "name": "ipython"
            }
        }
    }, 
    "nbformat": 4
}